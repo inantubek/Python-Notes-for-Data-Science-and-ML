{
 "cells": [
  {
   "cell_type": "markdown",
   "metadata": {},
   "source": [
    "## Indeksleme ve matematiksel işlemler"
   ]
  },
  {
   "cell_type": "code",
   "execution_count": 1,
   "metadata": {},
   "outputs": [],
   "source": [
    "import pandas as pd"
   ]
  },
  {
   "cell_type": "code",
   "execution_count": 4,
   "metadata": {},
   "outputs": [
    {
     "data": {
      "text/plain": [
       "0             AUSTRALIA\n",
       "1                 CHINA\n",
       "2             AUSTRALIA\n",
       "3                 CHINA\n",
       "4                 JAPAN\n",
       "5                 CHINA\n",
       "6                 JAPAN\n",
       "7              THAILAND\n",
       "8                 CHINA\n",
       "9             AUSTRALIA\n",
       "10                CHINA\n",
       "11                JAPAN\n",
       "12             THAILAND\n",
       "13                CHINA\n",
       "14            AUSTRALIA\n",
       "15                CHINA\n",
       "16             THAILAND\n",
       "17                CHINA\n",
       "18            AUSTRALIA\n",
       "19                CHINA\n",
       "20             THAILAND\n",
       "21                JAPAN\n",
       "22                INDIA\n",
       "23                CHINA\n",
       "24             MALAYSIA\n",
       "25                CHINA\n",
       "26            AUSTRALIA\n",
       "27                CHINA\n",
       "28             THAILAND\n",
       "29    REPUBLIC OF KOREA\n",
       "            ...        \n",
       "43                CHINA\n",
       "44             THAILAND\n",
       "45                CHINA\n",
       "46             VIET NAM\n",
       "47                CHINA\n",
       "48            HONG KONG\n",
       "49                JAPAN\n",
       "50                CHINA\n",
       "51                JAPAN\n",
       "52                CHINA\n",
       "53    REPUBLIC OF KOREA\n",
       "54                JAPAN\n",
       "55                CHINA\n",
       "56            AUSTRALIA\n",
       "57               TAIWAN\n",
       "58    REPUBLIC OF KOREA\n",
       "59            AUSTRALIA\n",
       "60             THAILAND\n",
       "61                CHINA\n",
       "62                INDIA\n",
       "63                CHINA\n",
       "64               TAIWAN\n",
       "65    REPUBLIC OF KOREA\n",
       "66                CHINA\n",
       "67    REPUBLIC OF KOREA\n",
       "68            AUSTRALIA\n",
       "69               FRANCE\n",
       "70              GERMANY\n",
       "71               SWEDEN\n",
       "72                ITALY\n",
       "Name: Ulke, Length: 73, dtype: object"
      ]
     },
     "execution_count": 4,
     "metadata": {},
     "output_type": "execute_result"
    }
   ],
   "source": [
    "ulke=pd.read_csv(\"ulke.csv\",squeeze=True)\n",
    "ulke"
   ]
  },
  {
   "cell_type": "code",
   "execution_count": 5,
   "metadata": {},
   "outputs": [
    {
     "data": {
      "text/plain": [
       "5        CHINA\n",
       "6        JAPAN\n",
       "7     THAILAND\n",
       "8        CHINA\n",
       "9    AUSTRALIA\n",
       "Name: Ulke, dtype: object"
      ]
     },
     "execution_count": 5,
     "metadata": {},
     "output_type": "execute_result"
    }
   ],
   "source": [
    "ulke[5:10]  #5 dahil, 10'a kadar. 10 dahil değil"
   ]
  },
  {
   "cell_type": "code",
   "execution_count": 6,
   "metadata": {},
   "outputs": [
    {
     "data": {
      "text/plain": [
       "5                 CHINA\n",
       "6                 JAPAN\n",
       "7              THAILAND\n",
       "8                 CHINA\n",
       "9             AUSTRALIA\n",
       "10                CHINA\n",
       "11                JAPAN\n",
       "12             THAILAND\n",
       "13                CHINA\n",
       "14            AUSTRALIA\n",
       "15                CHINA\n",
       "16             THAILAND\n",
       "17                CHINA\n",
       "18            AUSTRALIA\n",
       "19                CHINA\n",
       "20             THAILAND\n",
       "21                JAPAN\n",
       "22                INDIA\n",
       "23                CHINA\n",
       "24             MALAYSIA\n",
       "25                CHINA\n",
       "26            AUSTRALIA\n",
       "27                CHINA\n",
       "28             THAILAND\n",
       "29    REPUBLIC OF KOREA\n",
       "30                CHINA\n",
       "31    REPUBLIC OF KOREA\n",
       "32             THAILAND\n",
       "33                JAPAN\n",
       "34                INDIA\n",
       "            ...        \n",
       "43                CHINA\n",
       "44             THAILAND\n",
       "45                CHINA\n",
       "46             VIET NAM\n",
       "47                CHINA\n",
       "48            HONG KONG\n",
       "49                JAPAN\n",
       "50                CHINA\n",
       "51                JAPAN\n",
       "52                CHINA\n",
       "53    REPUBLIC OF KOREA\n",
       "54                JAPAN\n",
       "55                CHINA\n",
       "56            AUSTRALIA\n",
       "57               TAIWAN\n",
       "58    REPUBLIC OF KOREA\n",
       "59            AUSTRALIA\n",
       "60             THAILAND\n",
       "61                CHINA\n",
       "62                INDIA\n",
       "63                CHINA\n",
       "64               TAIWAN\n",
       "65    REPUBLIC OF KOREA\n",
       "66                CHINA\n",
       "67    REPUBLIC OF KOREA\n",
       "68            AUSTRALIA\n",
       "69               FRANCE\n",
       "70              GERMANY\n",
       "71               SWEDEN\n",
       "72                ITALY\n",
       "Name: Ulke, Length: 68, dtype: object"
      ]
     },
     "execution_count": 6,
     "metadata": {},
     "output_type": "execute_result"
    }
   ],
   "source": [
    "ulke[5:]  #5'den sona kadar"
   ]
  },
  {
   "cell_type": "code",
   "execution_count": 7,
   "metadata": {},
   "outputs": [
    {
     "data": {
      "text/plain": [
       "0    AUSTRALIA\n",
       "1        CHINA\n",
       "2    AUSTRALIA\n",
       "3        CHINA\n",
       "4        JAPAN\n",
       "5        CHINA\n",
       "6        JAPAN\n",
       "7     THAILAND\n",
       "8        CHINA\n",
       "9    AUSTRALIA\n",
       "Name: Ulke, dtype: object"
      ]
     },
     "execution_count": 7,
     "metadata": {},
     "output_type": "execute_result"
    }
   ],
   "source": [
    "ulke[:10]  #ilk 10 eleman"
   ]
  },
  {
   "cell_type": "markdown",
   "metadata": {},
   "source": [
    "## matematiksel işlemler"
   ]
  },
  {
   "cell_type": "code",
   "execution_count": 9,
   "metadata": {},
   "outputs": [],
   "source": [
    "gelir=pd.read_csv(\"milligelir.csv\",squeeze=True)"
   ]
  },
  {
   "cell_type": "code",
   "execution_count": 10,
   "metadata": {},
   "outputs": [
    {
     "data": {
      "text/plain": [
       "615"
      ]
     },
     "execution_count": 10,
     "metadata": {},
     "output_type": "execute_result"
    }
   ],
   "source": [
    "gelir.count()  #kaç elamanvar"
   ]
  },
  {
   "cell_type": "code",
   "execution_count": 11,
   "metadata": {},
   "outputs": [
    {
     "data": {
      "text/plain": [
       "615"
      ]
     },
     "execution_count": 11,
     "metadata": {},
     "output_type": "execute_result"
    }
   ],
   "source": [
    "len(gelir)"
   ]
  },
  {
   "cell_type": "code",
   "execution_count": 12,
   "metadata": {},
   "outputs": [
    {
     "data": {
      "text/plain": [
       "198604764.25999993"
      ]
     },
     "execution_count": 12,
     "metadata": {},
     "output_type": "execute_result"
    }
   ],
   "source": [
    "sum(gelir)"
   ]
  },
  {
   "cell_type": "code",
   "execution_count": 13,
   "metadata": {},
   "outputs": [
    {
     "data": {
      "text/plain": [
       "198604764.26"
      ]
     },
     "execution_count": 13,
     "metadata": {},
     "output_type": "execute_result"
    }
   ],
   "source": [
    "gelir.sum()"
   ]
  },
  {
   "cell_type": "code",
   "execution_count": 14,
   "metadata": {},
   "outputs": [
    {
     "data": {
      "text/plain": [
       "322934.5760325202"
      ]
     },
     "execution_count": 14,
     "metadata": {},
     "output_type": "execute_result"
    }
   ],
   "source": [
    "gelir.mean()"
   ]
  },
  {
   "cell_type": "code",
   "execution_count": 15,
   "metadata": {},
   "outputs": [
    {
     "data": {
      "text/plain": [
       "744365.348101673"
      ]
     },
     "execution_count": 15,
     "metadata": {},
     "output_type": "execute_result"
    }
   ],
   "source": [
    "gelir.std()"
   ]
  },
  {
   "cell_type": "code",
   "execution_count": 16,
   "metadata": {},
   "outputs": [
    {
     "data": {
      "text/plain": [
       "52999.92"
      ]
     },
     "execution_count": 16,
     "metadata": {},
     "output_type": "execute_result"
    }
   ],
   "source": [
    "min(gelir)"
   ]
  },
  {
   "cell_type": "code",
   "execution_count": 17,
   "metadata": {},
   "outputs": [
    {
     "data": {
      "text/plain": [
       "52999.92"
      ]
     },
     "execution_count": 17,
     "metadata": {},
     "output_type": "execute_result"
    }
   ],
   "source": [
    "min(gelir)"
   ]
  },
  {
   "cell_type": "code",
   "execution_count": 18,
   "metadata": {},
   "outputs": [
    {
     "data": {
      "text/plain": [
       "135000.0"
      ]
     },
     "execution_count": 18,
     "metadata": {},
     "output_type": "execute_result"
    }
   ],
   "source": [
    "gelir.median()"
   ]
  },
  {
   "cell_type": "code",
   "execution_count": 19,
   "metadata": {},
   "outputs": [
    {
     "data": {
      "text/plain": [
       "count    6.150000e+02\n",
       "mean     3.229346e+05\n",
       "std      7.443653e+05\n",
       "min      5.299992e+04\n",
       "25%      6.981050e+04\n",
       "50%      1.350000e+05\n",
       "75%      2.797500e+05\n",
       "max      7.167500e+06\n",
       "Name: 2297000.0, dtype: float64"
      ]
     },
     "execution_count": 19,
     "metadata": {},
     "output_type": "execute_result"
    }
   ],
   "source": [
    "gelir.describe()  #describe ile istatiksel bazı ögelere erişebiliriz."
   ]
  }
 ],
 "metadata": {
  "kernelspec": {
   "display_name": "Python 3",
   "language": "python",
   "name": "python3"
  },
  "language_info": {
   "codemirror_mode": {
    "name": "ipython",
    "version": 3
   },
   "file_extension": ".py",
   "mimetype": "text/x-python",
   "name": "python",
   "nbconvert_exporter": "python",
   "pygments_lexer": "ipython3",
   "version": "3.6.4"
  }
 },
 "nbformat": 4,
 "nbformat_minor": 2
}
