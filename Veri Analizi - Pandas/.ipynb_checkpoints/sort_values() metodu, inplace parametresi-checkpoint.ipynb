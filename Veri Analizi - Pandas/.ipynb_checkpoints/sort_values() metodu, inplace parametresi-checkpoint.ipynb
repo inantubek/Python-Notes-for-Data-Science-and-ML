{
 "cells": [
  {
   "cell_type": "markdown",
   "metadata": {},
   "source": [
    "## sort_values() metodu, inplace parametresi ve in"
   ]
  },
  {
   "cell_type": "code",
   "execution_count": 17,
   "metadata": {},
   "outputs": [],
   "source": [
    "import pandas as pd"
   ]
  },
  {
   "cell_type": "code",
   "execution_count": 18,
   "metadata": {},
   "outputs": [
    {
     "data": {
      "text/plain": [
       "0        65625.00\n",
       "1       150000.00\n",
       "2       106573.89\n",
       "3        77400.00\n",
       "4       725000.00\n",
       "5       150000.00\n",
       "6       285008.00\n",
       "7        74000.00\n",
       "8        93750.00\n",
       "9        66150.00\n",
       "10      413333.33\n",
       "11       77004.00\n",
       "12      164250.00\n",
       "13      175008.00\n",
       "14       85008.00\n",
       "15     1041310.00\n",
       "16      568000.00\n",
       "17      183756.00\n",
       "18       53000.00\n",
       "19      325008.00\n",
       "20      165300.00\n",
       "21       65004.00\n",
       "22      195000.04\n",
       "23      279500.00\n",
       "24       65004.00\n",
       "25      120008.00\n",
       "26      770750.00\n",
       "27       53004.00\n",
       "28       53004.00\n",
       "29       65000.00\n",
       "          ...    \n",
       "585     140000.00\n",
       "586     202000.00\n",
       "587     183833.33\n",
       "588      71885.00\n",
       "589      73800.00\n",
       "590      66849.00\n",
       "591     180000.00\n",
       "592     131250.00\n",
       "593     175000.00\n",
       "594     885500.00\n",
       "595      67500.00\n",
       "596      65000.00\n",
       "597     120000.00\n",
       "598    1800000.04\n",
       "599      65004.00\n",
       "600     378933.33\n",
       "601      99600.00\n",
       "602     533700.04\n",
       "603      65004.00\n",
       "604      65004.00\n",
       "605      54075.00\n",
       "606     670000.00\n",
       "607     308333.33\n",
       "608     377000.00\n",
       "609     194000.00\n",
       "610      80000.00\n",
       "611     368125.00\n",
       "612     184000.00\n",
       "613      54075.00\n",
       "614     453333.33\n",
       "Name: 2297000.0, Length: 615, dtype: float64"
      ]
     },
     "execution_count": 18,
     "metadata": {},
     "output_type": "execute_result"
    }
   ],
   "source": [
    "ulke=pd.read_csv(\"ulke.csv\",squeeze=True)\n",
    "gelir=pd.read_csv(\"milligelir.csv\",squeeze=True)\n",
    "gelir"
   ]
  },
  {
   "cell_type": "code",
   "execution_count": 19,
   "metadata": {},
   "outputs": [
    {
     "data": {
      "text/plain": [
       "0     AUSTRALIA\n",
       "42    AUSTRALIA\n",
       "26    AUSTRALIA\n",
       "56    AUSTRALIA\n",
       "59    AUSTRALIA\n",
       "Name: Ulke, dtype: object"
      ]
     },
     "execution_count": 19,
     "metadata": {},
     "output_type": "execute_result"
    }
   ],
   "source": [
    "ulke.sort_values().head()"
   ]
  },
  {
   "cell_type": "code",
   "execution_count": 20,
   "metadata": {},
   "outputs": [
    {
     "data": {
      "text/plain": [
       "400    7167500.00\n",
       "567    7115555.67\n",
       "559    6500000.00\n",
       "348    5915690.00\n",
       "354    5610000.00\n",
       "Name: 2297000.0, dtype: float64"
      ]
     },
     "execution_count": 20,
     "metadata": {},
     "output_type": "execute_result"
    }
   ],
   "source": [
    "gelir.sort_values(ascending=False).head()  #parametreleri Shift+Tab ile görebiliriz"
   ]
  },
  {
   "cell_type": "markdown",
   "metadata": {},
   "source": [
    "When inplace=True is passed, the data is renamed in place (it returns nothing). When inplace=False is passed (this is the default value, so isn't necessary), performs the operation and returns a copy of the object"
   ]
  },
  {
   "cell_type": "code",
   "execution_count": 23,
   "metadata": {},
   "outputs": [],
   "source": [
    "gelir.sort_values(ascending=True,inplace=True) #inplace=degistirdigimiz sırayı gelir'e tekrar atayabilmek için"
   ]
  },
  {
   "cell_type": "code",
   "execution_count": 22,
   "metadata": {},
   "outputs": [
    {
     "data": {
      "text/plain": [
       "0        65625.00\n",
       "1       150000.00\n",
       "2       106573.89\n",
       "3        77400.00\n",
       "4       725000.00\n",
       "5       150000.00\n",
       "6       285008.00\n",
       "7        74000.00\n",
       "8        93750.00\n",
       "9        66150.00\n",
       "10      413333.33\n",
       "11       77004.00\n",
       "12      164250.00\n",
       "13      175008.00\n",
       "14       85008.00\n",
       "15     1041310.00\n",
       "16      568000.00\n",
       "17      183756.00\n",
       "18       53000.00\n",
       "19      325008.00\n",
       "20      165300.00\n",
       "21       65004.00\n",
       "22      195000.04\n",
       "23      279500.00\n",
       "24       65004.00\n",
       "25      120008.00\n",
       "26      770750.00\n",
       "27       53004.00\n",
       "28       53004.00\n",
       "29       65000.00\n",
       "          ...    \n",
       "585     140000.00\n",
       "586     202000.00\n",
       "587     183833.33\n",
       "588      71885.00\n",
       "589      73800.00\n",
       "590      66849.00\n",
       "591     180000.00\n",
       "592     131250.00\n",
       "593     175000.00\n",
       "594     885500.00\n",
       "595      67500.00\n",
       "596      65000.00\n",
       "597     120000.00\n",
       "598    1800000.04\n",
       "599      65004.00\n",
       "600     378933.33\n",
       "601      99600.00\n",
       "602     533700.04\n",
       "603      65004.00\n",
       "604      65004.00\n",
       "605      54075.00\n",
       "606     670000.00\n",
       "607     308333.33\n",
       "608     377000.00\n",
       "609     194000.00\n",
       "610      80000.00\n",
       "611     368125.00\n",
       "612     184000.00\n",
       "613      54075.00\n",
       "614     453333.33\n",
       "Name: 2297000.0, Length: 615, dtype: float64"
      ]
     },
     "execution_count": 22,
     "metadata": {},
     "output_type": "execute_result"
    }
   ],
   "source": [
    "gelir"
   ]
  },
  {
   "cell_type": "code",
   "execution_count": 24,
   "metadata": {},
   "outputs": [
    {
     "data": {
      "text/plain": [
       "0        65625.00\n",
       "1       150000.00\n",
       "2       106573.89\n",
       "3        77400.00\n",
       "4       725000.00\n",
       "5       150000.00\n",
       "6       285008.00\n",
       "7        74000.00\n",
       "8        93750.00\n",
       "9        66150.00\n",
       "10      413333.33\n",
       "11       77004.00\n",
       "12      164250.00\n",
       "13      175008.00\n",
       "14       85008.00\n",
       "15     1041310.00\n",
       "16      568000.00\n",
       "17      183756.00\n",
       "18       53000.00\n",
       "19      325008.00\n",
       "20      165300.00\n",
       "21       65004.00\n",
       "22      195000.04\n",
       "23      279500.00\n",
       "24       65004.00\n",
       "25      120008.00\n",
       "26      770750.00\n",
       "27       53004.00\n",
       "28       53004.00\n",
       "29       65000.00\n",
       "          ...    \n",
       "585     140000.00\n",
       "586     202000.00\n",
       "587     183833.33\n",
       "588      71885.00\n",
       "589      73800.00\n",
       "590      66849.00\n",
       "591     180000.00\n",
       "592     131250.00\n",
       "593     175000.00\n",
       "594     885500.00\n",
       "595      67500.00\n",
       "596      65000.00\n",
       "597     120000.00\n",
       "598    1800000.04\n",
       "599      65004.00\n",
       "600     378933.33\n",
       "601      99600.00\n",
       "602     533700.04\n",
       "603      65004.00\n",
       "604      65004.00\n",
       "605      54075.00\n",
       "606     670000.00\n",
       "607     308333.33\n",
       "608     377000.00\n",
       "609     194000.00\n",
       "610      80000.00\n",
       "611     368125.00\n",
       "612     184000.00\n",
       "613      54075.00\n",
       "614     453333.33\n",
       "Name: 2297000.0, Length: 615, dtype: float64"
      ]
     },
     "execution_count": 24,
     "metadata": {},
     "output_type": "execute_result"
    }
   ],
   "source": [
    "gelir.sort_index()"
   ]
  },
  {
   "cell_type": "code",
   "execution_count": 25,
   "metadata": {},
   "outputs": [
    {
     "data": {
      "text/plain": [
       "True"
      ]
     },
     "execution_count": 25,
     "metadata": {},
     "output_type": "execute_result"
    }
   ],
   "source": [
    "1 in [1,2,3,4]   #in = içerisinde var mı"
   ]
  },
  {
   "cell_type": "code",
   "execution_count": 26,
   "metadata": {},
   "outputs": [
    {
     "data": {
      "text/plain": [
       "True"
      ]
     },
     "execution_count": 26,
     "metadata": {},
     "output_type": "execute_result"
    }
   ],
   "source": [
    "\"AUSTRALIA\" in ulke.values"
   ]
  }
 ],
 "metadata": {
  "kernelspec": {
   "display_name": "Python 3",
   "language": "python",
   "name": "python3"
  },
  "language_info": {
   "codemirror_mode": {
    "name": "ipython",
    "version": 3
   },
   "file_extension": ".py",
   "mimetype": "text/x-python",
   "name": "python",
   "nbconvert_exporter": "python",
   "pygments_lexer": "ipython3",
   "version": "3.6.4"
  }
 },
 "nbformat": 4,
 "nbformat_minor": 2
}
