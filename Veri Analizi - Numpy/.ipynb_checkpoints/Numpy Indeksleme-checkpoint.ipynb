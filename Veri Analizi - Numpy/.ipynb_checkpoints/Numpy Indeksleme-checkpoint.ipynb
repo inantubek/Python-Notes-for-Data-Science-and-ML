{
 "cells": [
  {
   "cell_type": "markdown",
   "metadata": {},
   "source": [
    "# NUMPY INDEKSLEME"
   ]
  },
  {
   "cell_type": "code",
   "execution_count": 1,
   "metadata": {},
   "outputs": [],
   "source": [
    "import numpy as np"
   ]
  },
  {
   "cell_type": "markdown",
   "metadata": {},
   "source": [
    "# Tek Boyutlu Array"
   ]
  },
  {
   "cell_type": "code",
   "execution_count": 2,
   "metadata": {},
   "outputs": [],
   "source": [
    "a=np.arange(10)**2"
   ]
  },
  {
   "cell_type": "code",
   "execution_count": 3,
   "metadata": {},
   "outputs": [
    {
     "data": {
      "text/plain": [
       "array([ 0,  1,  4,  9, 16, 25, 36, 49, 64, 81], dtype=int32)"
      ]
     },
     "execution_count": 3,
     "metadata": {},
     "output_type": "execute_result"
    }
   ],
   "source": [
    "a"
   ]
  },
  {
   "cell_type": "code",
   "execution_count": 4,
   "metadata": {},
   "outputs": [
    {
     "data": {
      "text/plain": [
       "9"
      ]
     },
     "execution_count": 4,
     "metadata": {},
     "output_type": "execute_result"
    }
   ],
   "source": [
    "a[3]  #3 indesli 4.eleman"
   ]
  },
  {
   "cell_type": "code",
   "execution_count": 6,
   "metadata": {},
   "outputs": [
    {
     "data": {
      "text/plain": [
       "array([ 9, 16, 25], dtype=int32)"
      ]
     },
     "execution_count": 6,
     "metadata": {},
     "output_type": "execute_result"
    }
   ],
   "source": [
    "a[3:6]   #3. indeksdeki eleman dahil (yani 4. eleman) ama 6.indeksteki eleman dahil değil(yani 7.eleman)"
   ]
  },
  {
   "cell_type": "code",
   "execution_count": 7,
   "metadata": {},
   "outputs": [],
   "source": [
    "a[4]=100 #4.indeksteki elemana 100 atadik"
   ]
  },
  {
   "cell_type": "code",
   "execution_count": 8,
   "metadata": {},
   "outputs": [
    {
     "data": {
      "text/plain": [
       "array([  0,   1,   4,   9, 100,  25,  36,  49,  64,  81], dtype=int32)"
      ]
     },
     "execution_count": 8,
     "metadata": {},
     "output_type": "execute_result"
    }
   ],
   "source": [
    "a"
   ]
  },
  {
   "cell_type": "code",
   "execution_count": 9,
   "metadata": {},
   "outputs": [
    {
     "name": "stdout",
     "output_type": "stream",
     "text": [
      "0\n",
      "1\n",
      "16\n",
      "81\n",
      "10000\n",
      "625\n",
      "1296\n",
      "2401\n",
      "4096\n",
      "6561\n"
     ]
    }
   ],
   "source": [
    "for i in a:\n",
    "    print(i**2)"
   ]
  },
  {
   "cell_type": "markdown",
   "metadata": {},
   "source": [
    "# Çok Boyutlu Array"
   ]
  },
  {
   "cell_type": "code",
   "execution_count": 10,
   "metadata": {},
   "outputs": [],
   "source": [
    "ar1= np.random.random(16)"
   ]
  },
  {
   "cell_type": "code",
   "execution_count": 11,
   "metadata": {},
   "outputs": [
    {
     "data": {
      "text/plain": [
       "array([0.043381  , 0.77458389, 0.55092035, 0.56341114, 0.71672301,\n",
       "       0.65506357, 0.7056203 , 0.70805318, 0.40975414, 0.38224509,\n",
       "       0.37608822, 0.38645523, 0.73358886, 0.09057259, 0.07879202,\n",
       "       0.9808967 ])"
      ]
     },
     "execution_count": 11,
     "metadata": {},
     "output_type": "execute_result"
    }
   ],
   "source": [
    "ar1"
   ]
  },
  {
   "cell_type": "code",
   "execution_count": 13,
   "metadata": {},
   "outputs": [
    {
     "data": {
      "text/plain": [
       "array([[0.043381  , 0.77458389, 0.55092035, 0.56341114],\n",
       "       [0.71672301, 0.65506357, 0.7056203 , 0.70805318],\n",
       "       [0.40975414, 0.38224509, 0.37608822, 0.38645523],\n",
       "       [0.73358886, 0.09057259, 0.07879202, 0.9808967 ]])"
      ]
     },
     "execution_count": 13,
     "metadata": {},
     "output_type": "execute_result"
    }
   ],
   "source": [
    "ar1=ar1.reshape(4,4)\n",
    "ar1"
   ]
  },
  {
   "cell_type": "code",
   "execution_count": 14,
   "metadata": {},
   "outputs": [
    {
     "data": {
      "text/plain": [
       "array([0.043381  , 0.77458389, 0.55092035, 0.56341114, 0.71672301,\n",
       "       0.65506357, 0.7056203 , 0.70805318, 0.40975414, 0.38224509,\n",
       "       0.37608822, 0.38645523, 0.73358886, 0.09057259, 0.07879202,\n",
       "       0.9808967 ])"
      ]
     },
     "execution_count": 14,
     "metadata": {},
     "output_type": "execute_result"
    }
   ],
   "source": [
    "ar1.ravel() #reshape ile cok boyutlu hale getirdigimiz array'i eski haline getirme"
   ]
  },
  {
   "cell_type": "code",
   "execution_count": 15,
   "metadata": {},
   "outputs": [
    {
     "data": {
      "text/plain": [
       "array([0.77458389, 0.65506357])"
      ]
     },
     "execution_count": 15,
     "metadata": {},
     "output_type": "execute_result"
    }
   ],
   "source": [
    "ar1[0:2,1]"
   ]
  },
  {
   "cell_type": "code",
   "execution_count": 17,
   "metadata": {},
   "outputs": [
    {
     "data": {
      "text/plain": [
       "array([0.56341114, 0.70805318, 0.38645523, 0.9808967 ])"
      ]
     },
     "execution_count": 17,
     "metadata": {},
     "output_type": "execute_result"
    }
   ],
   "source": [
    "ar1[:,3]   #son sutunu aldi"
   ]
  },
  {
   "cell_type": "code",
   "execution_count": 18,
   "metadata": {},
   "outputs": [
    {
     "name": "stdout",
     "output_type": "stream",
     "text": [
      "[0.043381   0.77458389 0.55092035 0.56341114]\n",
      "[0.71672301 0.65506357 0.7056203  0.70805318]\n",
      "[0.40975414 0.38224509 0.37608822 0.38645523]\n",
      "[0.73358886 0.09057259 0.07879202 0.9808967 ]\n"
     ]
    }
   ],
   "source": [
    "for satir in ar1:\n",
    "    print(satir)"
   ]
  },
  {
   "cell_type": "code",
   "execution_count": 20,
   "metadata": {},
   "outputs": [
    {
     "name": "stdout",
     "output_type": "stream",
     "text": [
      "0.04338099622058156\n",
      "0.7745838866574253\n",
      "0.5509203544447051\n",
      "0.5634111403921205\n",
      "0.7167230091910995\n",
      "0.6550635655501486\n",
      "0.7056203012455\n",
      "0.7080531777278053\n",
      "0.4097541420925578\n",
      "0.38224509000304285\n",
      "0.3760882157021589\n",
      "0.3864552316847141\n",
      "0.7335888643769252\n",
      "0.09057259322886935\n",
      "0.07879201560687177\n",
      "0.9808966997903564\n"
     ]
    }
   ],
   "source": [
    "for satir in ar1.flat:      #flat ile bütün satırlar alt alta yazılmış oldu\n",
    "    print(satir)"
   ]
  },
  {
   "cell_type": "code",
   "execution_count": 22,
   "metadata": {},
   "outputs": [
    {
     "name": "stdout",
     "output_type": "stream",
     "text": [
      "((0, 0), 0.04338099622058156)\n",
      "((0, 1), 0.7745838866574253)\n",
      "((0, 2), 0.5509203544447051)\n",
      "((0, 3), 0.5634111403921205)\n",
      "((1, 0), 0.7167230091910995)\n",
      "((1, 1), 0.6550635655501486)\n",
      "((1, 2), 0.7056203012455)\n",
      "((1, 3), 0.7080531777278053)\n",
      "((2, 0), 0.4097541420925578)\n",
      "((2, 1), 0.38224509000304285)\n",
      "((2, 2), 0.3760882157021589)\n",
      "((2, 3), 0.3864552316847141)\n",
      "((3, 0), 0.7335888643769252)\n",
      "((3, 1), 0.09057259322886935)\n",
      "((3, 2), 0.07879201560687177)\n",
      "((3, 3), 0.9808966997903564)\n"
     ]
    }
   ],
   "source": [
    "for i in np.ndenumerate(ar1):   #ndenumerate ile satır sutun numaraları ile sıralama\n",
    "    print(i)"
   ]
  },
  {
   "cell_type": "code",
   "execution_count": 24,
   "metadata": {},
   "outputs": [],
   "source": [
    "a=np.array([2,3])\n",
    "b=np.array([5,6])"
   ]
  },
  {
   "cell_type": "code",
   "execution_count": 27,
   "metadata": {},
   "outputs": [
    {
     "data": {
      "text/plain": [
       "array([2, 3, 5, 6])"
      ]
     },
     "execution_count": 27,
     "metadata": {},
     "output_type": "execute_result"
    }
   ],
   "source": [
    "np.hstack((a,b))   #iki stack'i horizontal (yatay) olarak birlestirme"
   ]
  },
  {
   "cell_type": "code",
   "execution_count": 28,
   "metadata": {},
   "outputs": [
    {
     "data": {
      "text/plain": [
       "array([[2, 3],\n",
       "       [5, 6]])"
      ]
     },
     "execution_count": 28,
     "metadata": {},
     "output_type": "execute_result"
    }
   ],
   "source": [
    "np.vstack((a,b))"
   ]
  },
  {
   "cell_type": "code",
   "execution_count": 32,
   "metadata": {},
   "outputs": [],
   "source": [
    "c=np.array([[1,2],[3,4]])\n",
    "d=np.array([[5,6]])   #aynı boyutta olması için [[]] şeklinde yazdık"
   ]
  },
  {
   "cell_type": "code",
   "execution_count": 33,
   "metadata": {},
   "outputs": [
    {
     "data": {
      "text/plain": [
       "array([[1, 2],\n",
       "       [3, 4],\n",
       "       [5, 6]])"
      ]
     },
     "execution_count": 33,
     "metadata": {},
     "output_type": "execute_result"
    }
   ],
   "source": [
    "np.concatenate((c,d),axis=0)  #axis=0 dedigimizde alt alta birleştiriyor"
   ]
  },
  {
   "cell_type": "code",
   "execution_count": 34,
   "metadata": {},
   "outputs": [
    {
     "ename": "ValueError",
     "evalue": "all the input array dimensions except for the concatenation axis must match exactly",
     "output_type": "error",
     "traceback": [
      "\u001b[1;31m---------------------------------------------------------------------------\u001b[0m",
      "\u001b[1;31mValueError\u001b[0m                                Traceback (most recent call last)",
      "\u001b[1;32m<ipython-input-34-dae05c4e4dbe>\u001b[0m in \u001b[0;36m<module>\u001b[1;34m()\u001b[0m\n\u001b[1;32m----> 1\u001b[1;33m \u001b[0mnp\u001b[0m\u001b[1;33m.\u001b[0m\u001b[0mconcatenate\u001b[0m\u001b[1;33m(\u001b[0m\u001b[1;33m(\u001b[0m\u001b[0mc\u001b[0m\u001b[1;33m,\u001b[0m\u001b[0md\u001b[0m\u001b[1;33m)\u001b[0m\u001b[1;33m,\u001b[0m\u001b[0maxis\u001b[0m\u001b[1;33m=\u001b[0m\u001b[1;36m1\u001b[0m\u001b[1;33m)\u001b[0m  \u001b[1;31m#axis=1 dedigimizde yanyana birleştiriyor\u001b[0m\u001b[1;33m\u001b[0m\u001b[0m\n\u001b[0m",
      "\u001b[1;31mValueError\u001b[0m: all the input array dimensions except for the concatenation axis must match exactly"
     ]
    }
   ],
   "source": [
    "np.concatenate((c,d),axis=1)  #axis=1 dedigimizde yanyana birleştiriyor"
   ]
  },
  {
   "cell_type": "code",
   "execution_count": 36,
   "metadata": {},
   "outputs": [
    {
     "data": {
      "text/plain": [
       "array([[1, 2, 5],\n",
       "       [3, 4, 6]])"
      ]
     },
     "execution_count": 36,
     "metadata": {},
     "output_type": "execute_result"
    }
   ],
   "source": [
    "np.concatenate((c,d.T),axis=1)  #yukarıda hata aldık. Transpozunu almak gerekli"
   ]
  },
  {
   "cell_type": "code",
   "execution_count": null,
   "metadata": {},
   "outputs": [],
   "source": []
  }
 ],
 "metadata": {
  "kernelspec": {
   "display_name": "Python 3",
   "language": "python",
   "name": "python3"
  },
  "language_info": {
   "codemirror_mode": {
    "name": "ipython",
    "version": 3
   },
   "file_extension": ".py",
   "mimetype": "text/x-python",
   "name": "python",
   "nbconvert_exporter": "python",
   "pygments_lexer": "ipython3",
   "version": "3.6.4"
  }
 },
 "nbformat": 4,
 "nbformat_minor": 2
}
