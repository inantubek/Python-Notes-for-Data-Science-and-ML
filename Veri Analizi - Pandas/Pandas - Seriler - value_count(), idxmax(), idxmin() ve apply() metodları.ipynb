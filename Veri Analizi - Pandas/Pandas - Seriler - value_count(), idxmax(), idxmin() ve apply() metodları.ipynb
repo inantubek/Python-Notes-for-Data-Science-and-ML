{
 "cells": [
  {
   "cell_type": "markdown",
   "metadata": {},
   "source": [
    "## value_count(), idxmax(), idxmin() ve apply() metodları"
   ]
  },
  {
   "cell_type": "code",
   "execution_count": 2,
   "metadata": {},
   "outputs": [],
   "source": [
    "import pandas as pd"
   ]
  },
  {
   "cell_type": "code",
   "execution_count": 3,
   "metadata": {},
   "outputs": [],
   "source": [
    "ulke=pd.read_csv(\"ulke.csv\",squeeze=True)"
   ]
  },
  {
   "cell_type": "code",
   "execution_count": 4,
   "metadata": {},
   "outputs": [
    {
     "data": {
      "text/plain": [
       "CHINA                23\n",
       "AUSTRALIA            10\n",
       "JAPAN                 9\n",
       "THAILAND              8\n",
       "REPUBLIC OF KOREA     6\n",
       "INDIA                 4\n",
       "HONG KONG             3\n",
       "TAIWAN                3\n",
       "ITALY                 1\n",
       "FRANCE                1\n",
       "PHILIPPINES           1\n",
       "VIET NAM              1\n",
       "GERMANY               1\n",
       "MALAYSIA              1\n",
       "SWEDEN                1\n",
       "Name: Ulke, dtype: int64"
      ]
     },
     "execution_count": 4,
     "metadata": {},
     "output_type": "execute_result"
    }
   ],
   "source": [
    "ulke.value_counts()  #bir veriden kaç tane var"
   ]
  },
  {
   "cell_type": "code",
   "execution_count": 5,
   "metadata": {},
   "outputs": [
    {
     "data": {
      "text/plain": [
       "SWEDEN                1\n",
       "MALAYSIA              1\n",
       "GERMANY               1\n",
       "VIET NAM              1\n",
       "PHILIPPINES           1\n",
       "FRANCE                1\n",
       "ITALY                 1\n",
       "TAIWAN                3\n",
       "HONG KONG             3\n",
       "INDIA                 4\n",
       "REPUBLIC OF KOREA     6\n",
       "THAILAND              8\n",
       "JAPAN                 9\n",
       "AUSTRALIA            10\n",
       "CHINA                23\n",
       "Name: Ulke, dtype: int64"
      ]
     },
     "execution_count": 5,
     "metadata": {},
     "output_type": "execute_result"
    }
   ],
   "source": [
    "ulke.value_counts(ascending=True)  #indekslerin max ve min değerlerini söyler"
   ]
  },
  {
   "cell_type": "code",
   "execution_count": 6,
   "metadata": {},
   "outputs": [],
   "source": [
    "gelir=pd.read_csv(\"milligelir.csv\",squeeze=True)"
   ]
  },
  {
   "cell_type": "code",
   "execution_count": 7,
   "metadata": {},
   "outputs": [
    {
     "data": {
      "text/plain": [
       "400"
      ]
     },
     "execution_count": 7,
     "metadata": {},
     "output_type": "execute_result"
    }
   ],
   "source": [
    "gelir.idxmax()  #En büyük değerin olduğu index"
   ]
  },
  {
   "cell_type": "code",
   "execution_count": 8,
   "metadata": {},
   "outputs": [
    {
     "data": {
      "text/plain": [
       "347"
      ]
     },
     "execution_count": 8,
     "metadata": {},
     "output_type": "execute_result"
    }
   ],
   "source": [
    "gelir.idxmin()  #En küçük değerin olduğu index"
   ]
  },
  {
   "cell_type": "code",
   "execution_count": 13,
   "metadata": {},
   "outputs": [],
   "source": [
    "def sinif(gelir):\n",
    "    if gelir<200000:\n",
    "        return \"orta\"\n",
    "    elif gelir>=1000000 and gelir<5000000:\n",
    "        return \"yuksek\"\n",
    "    else:\n",
    "        return \"çok yüksek\""
   ]
  },
  {
   "cell_type": "code",
   "execution_count": 14,
   "metadata": {},
   "outputs": [
    {
     "data": {
      "text/plain": [
       "0            orta\n",
       "1            orta\n",
       "2            orta\n",
       "3            orta\n",
       "4      çok yüksek\n",
       "5            orta\n",
       "6      çok yüksek\n",
       "7            orta\n",
       "8            orta\n",
       "9            orta\n",
       "10     çok yüksek\n",
       "11           orta\n",
       "12           orta\n",
       "13           orta\n",
       "14           orta\n",
       "15         yuksek\n",
       "16     çok yüksek\n",
       "17           orta\n",
       "18           orta\n",
       "19     çok yüksek\n",
       "20           orta\n",
       "21           orta\n",
       "22           orta\n",
       "23     çok yüksek\n",
       "24           orta\n",
       "25           orta\n",
       "26     çok yüksek\n",
       "27           orta\n",
       "28           orta\n",
       "29           orta\n",
       "          ...    \n",
       "585          orta\n",
       "586    çok yüksek\n",
       "587          orta\n",
       "588          orta\n",
       "589          orta\n",
       "590          orta\n",
       "591          orta\n",
       "592          orta\n",
       "593          orta\n",
       "594    çok yüksek\n",
       "595          orta\n",
       "596          orta\n",
       "597          orta\n",
       "598        yuksek\n",
       "599          orta\n",
       "600    çok yüksek\n",
       "601          orta\n",
       "602    çok yüksek\n",
       "603          orta\n",
       "604          orta\n",
       "605          orta\n",
       "606    çok yüksek\n",
       "607    çok yüksek\n",
       "608    çok yüksek\n",
       "609          orta\n",
       "610          orta\n",
       "611    çok yüksek\n",
       "612          orta\n",
       "613          orta\n",
       "614    çok yüksek\n",
       "Name: 2297000.0, Length: 615, dtype: object"
      ]
     },
     "execution_count": 14,
     "metadata": {},
     "output_type": "execute_result"
    }
   ],
   "source": [
    "gelir.apply(sinif)"
   ]
  },
  {
   "cell_type": "code",
   "execution_count": 15,
   "metadata": {},
   "outputs": [
    {
     "data": {
      "text/plain": [
       "0       131250.00\n",
       "1       300000.00\n",
       "2       213147.78\n",
       "3       154800.00\n",
       "4      1450000.00\n",
       "5       300000.00\n",
       "6       570016.00\n",
       "7       148000.00\n",
       "8       187500.00\n",
       "9       132300.00\n",
       "10      826666.66\n",
       "11      154008.00\n",
       "12      328500.00\n",
       "13      350016.00\n",
       "14      170016.00\n",
       "15     2082620.00\n",
       "16     1136000.00\n",
       "17      367512.00\n",
       "18      106000.00\n",
       "19      650016.00\n",
       "20      330600.00\n",
       "21      130008.00\n",
       "22      390000.08\n",
       "23      559000.00\n",
       "24      130008.00\n",
       "25      240016.00\n",
       "26     1541500.00\n",
       "27      106008.00\n",
       "28      106008.00\n",
       "29      130000.00\n",
       "          ...    \n",
       "585     280000.00\n",
       "586     404000.00\n",
       "587     367666.66\n",
       "588     143770.00\n",
       "589     147600.00\n",
       "590     133698.00\n",
       "591     360000.00\n",
       "592     262500.00\n",
       "593     350000.00\n",
       "594    1771000.00\n",
       "595     135000.00\n",
       "596     130000.00\n",
       "597     240000.00\n",
       "598    3600000.08\n",
       "599     130008.00\n",
       "600     757866.66\n",
       "601     199200.00\n",
       "602    1067400.08\n",
       "603     130008.00\n",
       "604     130008.00\n",
       "605     108150.00\n",
       "606    1340000.00\n",
       "607     616666.66\n",
       "608     754000.00\n",
       "609     388000.00\n",
       "610     160000.00\n",
       "611     736250.00\n",
       "612     368000.00\n",
       "613     108150.00\n",
       "614     906666.66\n",
       "Name: 2297000.0, Length: 615, dtype: float64"
      ]
     },
     "execution_count": 15,
     "metadata": {},
     "output_type": "execute_result"
    }
   ],
   "source": [
    "gelir.apply(lambda gelir:gelir*2)  #lambda ile gelirin her bir satırını 2 ile çarptık"
   ]
  }
 ],
 "metadata": {
  "kernelspec": {
   "display_name": "Python 3",
   "language": "python",
   "name": "python3"
  },
  "language_info": {
   "codemirror_mode": {
    "name": "ipython",
    "version": 3
   },
   "file_extension": ".py",
   "mimetype": "text/x-python",
   "name": "python",
   "nbconvert_exporter": "python",
   "pygments_lexer": "ipython3",
   "version": "3.6.4"
  }
 },
 "nbformat": 4,
 "nbformat_minor": 2
}
